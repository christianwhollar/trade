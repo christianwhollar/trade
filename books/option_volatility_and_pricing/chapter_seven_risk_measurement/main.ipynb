{
 "cells": [
  {
   "cell_type": "code",
   "execution_count": 1,
   "metadata": {},
   "outputs": [],
   "source": [
    "# Question 1\n",
    "# delta: sensitivity of an option's theoretical value to the passage of time\n",
    "# gamma: sensitivity of an option's theoretical value to a change in the underlying price\n",
    "# theta: sensitivity of an option's theoretical value to a change in volatility\n",
    "# vega: sensitivity of an option's theoretical value to a change in interest rates\n",
    "# rho: sensitivity of an option's delta to a change in price"
   ]
  },
  {
   "cell_type": "code",
   "execution_count": 13,
   "metadata": {},
   "outputs": [
    {
     "name": "stdout",
     "output_type": "stream",
     "text": [
      "10.49\n",
      "26.888\n",
      "4.789\n",
      "49.348\n",
      "1.3696\n",
      "13.3625\n"
     ]
    }
   ],
   "source": [
    "# Question 3\n",
    "def get_new_option_value(current_option_value: float, delta: float, underlying_price_change: float):\n",
    "    return current_option_value + (delta / 100 * underlying_price_change)\n",
    "\n",
    "# Question 3.a\n",
    "print(get_new_option_value(10.25, 60, 0.40)) # positive delta -> call\n",
    "\n",
    "# Question 3.b\n",
    "print(get_new_option_value(24.6, -44, -5.20)) # negative delta -> put\n",
    "\n",
    "# Question 3.c\n",
    "print(get_new_option_value(5.41, 27, -2.3)) # positive delta -> call\n",
    "\n",
    "# Question 3.d\n",
    "print(get_new_option_value(51.4, -15, 13.68)) # negative delta -> put\n",
    "\n",
    "# Question 3.e\n",
    "print(get_new_option_value(1.24, 72, 0.18)) # positive delta -> call\n",
    "\n",
    "# Question 3.d\n",
    "print(get_new_option_value(8.9, -85, -5.25)) # negative delta -> put"
   ]
  },
  {
   "cell_type": "code",
   "execution_count": 27,
   "metadata": {},
   "outputs": [
    {
     "name": "stdout",
     "output_type": "stream",
     "text": [
      "6.47\n",
      "2.097526\n",
      "2.9573750000000003\n",
      "16.26625\n",
      "0.19149999999999995\n",
      "2.26286\n"
     ]
    }
   ],
   "source": [
    "# Question 4\n",
    "def get_new_option_delta(delta: float, gamma: float, underlying_price_change: float):\n",
    "    new_delta = delta + (underlying_price_change * gamma)\n",
    "\n",
    "    if delta > 0 and new_delta < 0:\n",
    "        return 0\n",
    "    \n",
    "    elif delta < 0 and new_delta > 0:\n",
    "        return 0\n",
    "    \n",
    "    elif delta > 0 and new_delta > 100:\n",
    "        return 100\n",
    "    \n",
    "    elif delta < 0 and new_delta < -100:\n",
    "        return -100\n",
    "    \n",
    "    else:\n",
    "        return new_delta\n",
    "\n",
    "def get_new_option_value(current_option_value: float, underlying_price_change: float, delta: float, gamma: float):\n",
    "    # print(f\"New Delta: {(delta / 100 + get_new_option_delta(delta, gamma, underlying_price_change) / 100)}\")\n",
    "    return current_option_value + underlying_price_change * (delta / 100 + get_new_option_delta(delta, gamma, underlying_price_change) / 100) / 2\n",
    "# Question 4.a\n",
    "print(get_new_option_value(4.58, 3, 57, 4))\n",
    "\n",
    "# Question 4.b\n",
    "print(get_new_option_value(1.7, -0.94, -39, 7))\n",
    "\n",
    "# Question 4.c\n",
    "print(get_new_option_value(4.94, -8.5, 28, 1.1))\n",
    "\n",
    "# Question 4.d\n",
    "print(get_new_option_value(10.09, -6.75, -83, 2.8))\n",
    "\n",
    "# Question 4.e\n",
    "print(get_new_option_value(0.58, -3.70, 21, 6.5))\n",
    "\n",
    "# Question 4.f\n",
    "print(get_new_option_value(3.95, 18.2, -12, 0.3))"
   ]
  },
  {
   "cell_type": "code",
   "execution_count": 30,
   "metadata": {},
   "outputs": [
    {
     "name": "stdout",
     "output_type": "stream",
     "text": [
      "4.989999999999999\n",
      "0.8204\n",
      "22.2367\n",
      "1.3279999999999998\n",
      "10.800799999999999\n",
      "3.8430400000000002\n"
     ]
    }
   ],
   "source": [
    "# Question 5\n",
    "def get_new_option_value_theta(current_option_value: float, theta: float, days_passed: int):\n",
    "    return current_option_value + (theta * days_passed)\n",
    "\n",
    "def get_new_option_value_vega(current_option_value: float, vega: float, volatility_change: float):\n",
    "    return current_option_value + vega * volatility_change\n",
    "\n",
    "def get_new_option_value_rho(current_option_value: float, rho: float, interest_rate_change: float):\n",
    "    return current_option_value + rho * interest_rate_change\n",
    "\n",
    "# Question 5.a\n",
    "print(get_new_option_value_theta(5.18, -0.095, 2))\n",
    "\n",
    "# Question 5.b\n",
    "print(get_new_option_value_vega(0.67, 0.047, 3.2))\n",
    "\n",
    "# Question 5.c\n",
    "print(get_new_option_value_rho(22.75, -0.177, 2.9))\n",
    "\n",
    "# Question 5.d\n",
    "print(get_new_option_value_theta(1.64, -0.024, 13))\n",
    "\n",
    "# Question 5.e\n",
    "print(get_new_option_value_vega(12.1, 0.232, -5.6))\n",
    "\n",
    "# Question 5.f\n",
    "print(get_new_option_value_rho(3.99, 0.088, -1.67))"
   ]
  },
  {
   "cell_type": "code",
   "execution_count": null,
   "metadata": {},
   "outputs": [],
   "source": [
    "# Question 6\n",
    "def get_new_option_value(current_option_price: float, delta: float, gamma: float, vega: float, underlying_price_change: float):\n",
    "    new_delta = get_new_option_delta(delta, gamma, underlying_price_change)\n",
    "    print(new_delta)\n",
    "\n",
    "# Question 6.a\n",
    "get_new_option_delta(\n",
    "    current_option_price = 4.55, \n",
    "    delta = 62,\n",
    "    gamma = 4.4, \n",
    ")\n",
    "current_option_price = 4.55\n",
    "delta = 62 / 100\n",
    "gamma = 4.4\n",
    "vega = 0.13\n",
    "underlying_price_change = -3.28\n",
    "implied_volatility = 2.6\n"
   ]
  }
 ],
 "metadata": {
  "kernelspec": {
   "display_name": "base",
   "language": "python",
   "name": "python3"
  },
  "language_info": {
   "codemirror_mode": {
    "name": "ipython",
    "version": 3
   },
   "file_extension": ".py",
   "mimetype": "text/x-python",
   "name": "python",
   "nbconvert_exporter": "python",
   "pygments_lexer": "ipython3",
   "version": "3.9.12"
  }
 },
 "nbformat": 4,
 "nbformat_minor": 2
}
